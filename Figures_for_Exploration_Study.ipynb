{
  "nbformat": 4,
  "nbformat_minor": 0,
  "metadata": {
    "colab": {
      "name": "Crowdsourced Word Sequence Aggregation Figures for Exploration Study",
      "provenance": [],
      "collapsed_sections": [],
      "toc_visible": true
    },
    "kernelspec": {
      "name": "python3",
      "display_name": "Python 3"
    },
    "accelerator": "TPU"
  },
  "cells": [
    {
      "cell_type": "markdown",
      "metadata": {
        "id": "ApIyCfhnzPob",
        "colab_type": "text"
      },
      "source": [
        "#Data Helper"
      ]
    },
    {
      "cell_type": "code",
      "metadata": {
        "id": "RPR1wqDd37jP",
        "colab_type": "code",
        "colab": {}
      },
      "source": [
        "from google.colab import drive\n",
        "drive.mount('/content/drive')\n",
        "folder = \"data/\"  # set your path of data"
      ],
      "execution_count": 0,
      "outputs": []
    },
    {
      "cell_type": "code",
      "metadata": {
        "id": "m_6GqVGnid4q",
        "colab_type": "code",
        "colab": {}
      },
      "source": [
        "import pandas as pd\n",
        "import numpy as np\n",
        "\n",
        "def loaddata(labelfilename,gtfilename):\n",
        "  gtdf = pd.read_csv(gtfilename,sep='\\t',encoding='utf-8')\n",
        "\n",
        "  sentences = gtdf['sentence'].values.tolist()\n",
        "  truelabels = {}\n",
        "  for idx,row in gtdf.iterrows():\n",
        "    truelabels[row['sentence']] = row['gtlabel'] \n",
        "\n",
        "  labeldf = pd.read_csv(labelfilename,sep='\\t',encoding='utf-8')\n",
        "\n",
        "  workers = []\n",
        "  swlabels = []\n",
        "  \n",
        "  for idx,row in labeldf.iterrows():\n",
        "    worker = row['worker']\n",
        "    if worker not in workers:\n",
        "      workers.append(worker)\n",
        "    workerid = workers.index(worker)\n",
        "    sentenceid = sentences.index(row['sentence'])\n",
        "    label = row['label'].strip()\n",
        "    swlabels.append((sentenceid,workerid,label))\n",
        "  \n",
        "  return (workers,sentences,swlabels,truelabels)\n",
        "\n",
        "def labelformatconversion(workers,sentences,swlabels):\n",
        "  wlabelidlists = {}\n",
        "  wsentenceidlists = {}\n",
        "  for worker in workers:\n",
        "    wlabelidlists[worker] = []\n",
        "    wsentenceidlists[worker] = []\n",
        "    \n",
        "  slabelidlists = {}\n",
        "  sworkeridlists = {}\n",
        "  for sentence in sentences:\n",
        "    slabelidlists[sentence] = []\n",
        "    sworkeridlists[sentence] = []\n",
        "    \n",
        "  labellist = []\n",
        "  labelidx = 0\n",
        "  for (sentenceid,workerid,label) in swlabels:\n",
        "    labellist.append(label)\n",
        "    sentence = sentences[sentenceid]\n",
        "    slabelidlists[sentence].append(labelidx)\n",
        "    sworkeridlists[sentence].append(workerid)\n",
        "    worker = workers[workerid]\n",
        "    wlabelidlists[worker].append(labelidx)\n",
        "    wsentenceidlists[worker].append(sentenceid)\n",
        "    labelidx += 1\n",
        "  \n",
        "  return (labellist,slabelidlists,sworkeridlists,wlabelidlists,wsentenceidlists)\n",
        "\n",
        "def truelabelformatonversion(sentences,truelabels):\n",
        "  truelabellist = []\n",
        "  for i in range(len(sentences)):\n",
        "    sentence = sentences[i]\n",
        "    truelabellist.append(truelabels[sentence])\n",
        "    \n",
        "  return truelabellist"
      ],
      "execution_count": 0,
      "outputs": []
    },
    {
      "cell_type": "markdown",
      "metadata": {
        "id": "fPS2voaTz2yA",
        "colab_type": "text"
      },
      "source": [
        "# Universal Sentence Encoder"
      ]
    },
    {
      "cell_type": "code",
      "metadata": {
        "id": "bFUa2_Yp_Hov",
        "colab_type": "code",
        "colab": {}
      },
      "source": [
        "# Install the latest Tensorflow version.\n",
        "!pip3 install --quiet \"tensorflow>=1.7\"\n",
        "# Install TF-Hub.\n",
        "!pip3 install --quiet tensorflow-hub\n",
        "!pip3 install --quiet seaborn"
      ],
      "execution_count": 0,
      "outputs": []
    },
    {
      "cell_type": "code",
      "metadata": {
        "id": "7pVpk5Jg_J6k",
        "colab_type": "code",
        "colab": {}
      },
      "source": [
        "import tensorflow as tf\n",
        "import tensorflow_hub as hub\n",
        "import os\n",
        "import re"
      ],
      "execution_count": 0,
      "outputs": []
    },
    {
      "cell_type": "code",
      "metadata": {
        "id": "fTgWfpMU_NDW",
        "colab_type": "code",
        "colab": {}
      },
      "source": [
        "module_url = \"https://tfhub.dev/google/universal-sentence-encoder/2\" #@param [\"https://tfhub.dev/google/universal-sentence-encoder/2\", \"https://tfhub.dev/google/universal-sentence-encoder-large/3\"]"
      ],
      "execution_count": 0,
      "outputs": []
    },
    {
      "cell_type": "markdown",
      "metadata": {
        "id": "i0SgMy6k_rvV",
        "colab_type": "text"
      },
      "source": [
        "# Evaluation Method"
      ]
    },
    {
      "cell_type": "code",
      "metadata": {
        "id": "SEtDUi895wlp",
        "colab_type": "code",
        "colab": {}
      },
      "source": [
        "DEFAULT_SIM_TYPE = 'COSINE'\n",
        "def similarity(embed1, embed2, simtype = DEFAULT_SIM_TYPE):\n",
        "  if (simtype == 'COSINE'):\n",
        "    l1 = np.sqrt(np.sum(embed1**2))\n",
        "    l2 = np.sqrt(np.sum(embed2**2))\n",
        "    sim = np.inner(embed1,embed2) / (l1*l2)\n",
        "  \n",
        "  return sim"
      ],
      "execution_count": 0,
      "outputs": []
    },
    {
      "cell_type": "markdown",
      "metadata": {
        "id": "9lAPMiUblQB9",
        "colab_type": "text"
      },
      "source": [
        "## Embedding"
      ]
    },
    {
      "cell_type": "code",
      "metadata": {
        "id": "BqJP7lGCcXoA",
        "colab_type": "code",
        "colab": {}
      },
      "source": [
        "def evaluationbyEmbedding(sentences, elabels, label_embeddings, truelabels, truelabel_embeddings):\n",
        "  totalsim = 0\n",
        "  for sentence in elabels:\n",
        "    elabel_embedding = label_embeddings[elabels[sentence]]\n",
        "    truelabel_embedding = truelabel_embeddings[sentences.index(sentence)]\n",
        "    totalsim += similarity(elabel_embedding,truelabel_embedding)\n",
        "    \n",
        "  #print(len(elabels),totalsim/len(elabels))\n",
        "  return totalsim/len(elabels)\n",
        "    "
      ],
      "execution_count": 0,
      "outputs": []
    },
    {
      "cell_type": "markdown",
      "metadata": {
        "id": "edlrVNvtlRPF",
        "colab_type": "text"
      },
      "source": [
        "## GLEU"
      ]
    },
    {
      "cell_type": "code",
      "metadata": {
        "id": "YFqsU43l0OF9",
        "colab_type": "code",
        "colab": {
          "base_uri": "https://localhost:8080/",
          "height": 52
        },
        "outputId": "465a85cc-ce3c-42b0-842e-f6125d1e37db"
      },
      "source": [
        "#https://github.com/gcunhase/NLPMetrics\n",
        "#https://colab.research.google.com/github/gcunhase/NLPMetrics/blob/master/notebooks/gleu.ipynb\n",
        "\n",
        "import nltk\n",
        "import nltk.translate.gleu_score as gleu\n",
        "\n",
        "try:\n",
        "  nltk.data.find('tokenizers/punkt')\n",
        "except LookupError:\n",
        "  nltk.download('punkt')\n",
        "\n",
        "def evaluationbyGLEU(sentences, labels, elabelidxs, truelabels):\n",
        "  n = len(sentences)\n",
        "  sim = 0\n",
        "  for i in range(n):\n",
        "    sentence = sentences[i]\n",
        "    labelidx = elabelidxs[sentence]\n",
        "    label = labels[labelidx]\n",
        "    truelabel = truelabels[sentence]\n",
        "    sim += gleu.sentence_gleu([truelabel.split()], label.split())\n",
        "  #print(n,sim/n)\n",
        "  return sim/n"
      ],
      "execution_count": 8,
      "outputs": [
        {
          "output_type": "stream",
          "text": [
            "[nltk_data] Downloading package punkt to /root/nltk_data...\n",
            "[nltk_data]   Unzipping tokenizers/punkt.zip.\n"
          ],
          "name": "stdout"
        }
      ]
    },
    {
      "cell_type": "markdown",
      "metadata": {
        "id": "qe7P3aGepwFf",
        "colab_type": "text"
      },
      "source": [
        "# Figures in Exploration Study"
      ]
    },
    {
      "cell_type": "markdown",
      "metadata": {
        "id": "vnDF1OBKS8Fa",
        "colab_type": "text"
      },
      "source": [
        "## Embedding"
      ]
    },
    {
      "cell_type": "markdown",
      "metadata": {
        "id": "dhrP6utuTAEP",
        "colab_type": "text"
      },
      "source": [
        "### Worker Reliability"
      ]
    },
    {
      "cell_type": "code",
      "metadata": {
        "id": "k-DJB9XDglZF",
        "colab_type": "code",
        "colab": {}
      },
      "source": [
        "def WorkerReliabilityEmbedding(workers, sentences, slabelidlists, sworkeridlists, wlabelidlists, wsentenceidlists, label_embeddings, truelabel_embeddings):  \n",
        "  w_num = len(workers)\n",
        "  reliability = np.zeros(w_num)\n",
        "  s_num = len(sentences)\n",
        "\n",
        "  # compute reliability\n",
        "  for j in range(w_num): \n",
        "    worker = workers[j]\n",
        "    wtruelabel_embeddings = truelabel_embeddings[wsentenceidlists[worker]]\n",
        "    wlabelidlist = wlabelidlists[worker]\n",
        "    wlabel_embeddings = label_embeddings[wlabelidlist]\n",
        "    \n",
        "    nw = len(wlabel_embeddings)\n",
        "    totalsim = 0\n",
        "    for i in range(nw):\n",
        "      elabel_embedding = wlabel_embeddings[i]\n",
        "      truelabel_embedding = wtruelabel_embeddings[i]\n",
        "      totalsim += similarity(elabel_embedding,truelabel_embedding)\n",
        "    reliability[j] = totalsim / nw\n",
        "    \n",
        "  return reliability\n",
        "\n",
        "def DatasetWorkerReliabilityEmbedding(labelfilename,gtfilename):\n",
        "  (workers,sentences,swlabels,truelabels) = loaddata(labelfilename,gtfilename)\n",
        "  (labellist,slabelidlists,sworkeridlists,wlabelidlists,wsentenceidlists) = labelformatconversion(workers,sentences,swlabels)\n",
        "  (truelabellist) = truelabelformatonversion(sentences,truelabels)\n",
        "\n",
        "  embed = hub.Module(module_url)\n",
        "  tf.logging.set_verbosity(tf.logging.ERROR)\n",
        "  with tf.Session() as session:\n",
        "    session.run([tf.global_variables_initializer(), tf.tables_initializer()])\n",
        "    label_embeddings = session.run(embed(labellist))\n",
        "  with tf.Session() as session:\n",
        "    session.run([tf.global_variables_initializer(), tf.tables_initializer()])\n",
        "    truelabel_embeddings = session.run(embed(truelabellist))\n",
        "\n",
        "  workerreliability = WorkerReliabilityEmbedding(workers, sentences, slabelidlists, sworkeridlists, wlabelidlists, wsentenceidlists, label_embeddings, truelabel_embeddings)\n",
        "  \n",
        "  return workerreliability\n"
      ],
      "execution_count": 0,
      "outputs": []
    },
    {
      "cell_type": "code",
      "metadata": {
        "id": "2wC7lFsuJNxY",
        "colab_type": "code",
        "outputId": "6387ce04-85d4-4e28-d330-477c34da0365",
        "colab": {
          "base_uri": "https://localhost:8080/",
          "height": 34
        }
      },
      "source": [
        "# J1\n",
        "labelfilename = folder + 'CrowdWSA2019_J1_label.tsv'\n",
        "gtfilename = folder + 'CrowdWSA2019_J1_gt.tsv'\n",
        "j1workerreliability = DatasetWorkerReliabilityEmbedding(labelfilename,gtfilename)\n",
        "\n",
        "# T1\n",
        "labelfilename = folder + 'CrowdWSA2019_T1_label.tsv'\n",
        "gtfilename = folder + 'CrowdWSA2019_T1_gt.tsv'\n",
        "t1workerreliability = DatasetWorkerReliabilityEmbedding(labelfilename,gtfilename)\n",
        "\n",
        "# T2\n",
        "labelfilename = folder + 'CrowdWSA2019_T2_label.tsv'\n",
        "gtfilename = folder + 'CrowdWSA2019_T2_gt.tsv'\n",
        "t2workerreliability = DatasetWorkerReliabilityEmbedding(labelfilename,gtfilename)\n",
        "\n",
        "print([np.mean(j1workerreliability),np.mean(t1workerreliability),np.mean(t2workerreliability)])"
      ],
      "execution_count": 10,
      "outputs": [
        {
          "output_type": "stream",
          "text": [
            "[0.7251129552895824, 0.7873152441495942, 0.7679060591121978]\n"
          ],
          "name": "stdout"
        }
      ]
    },
    {
      "cell_type": "code",
      "metadata": {
        "id": "1eJEGu2Bj5zW",
        "colab_type": "code",
        "outputId": "cbeeb9ed-7c2c-471e-fa77-b8291495c3de",
        "colab": {
          "base_uri": "https://localhost:8080/",
          "height": 411
        }
      },
      "source": [
        "import seaborn as sns\n",
        "\n",
        "rc={'figure.figsize':(6,6), 'font.size': 24, 'axes.labelsize': 24, 'legend.fontsize': 24, \n",
        "    'axes.titlesize': 24, 'xtick.labelsize': 24, 'ytick.labelsize': 24}\n",
        "sns.set(rc=rc)\n",
        "\n",
        "plt = sns.boxplot(data=[j1workerreliability,t1workerreliability,t2workerreliability],showmeans=True)\n",
        "plt.set_xlabel(\"Collections\")\n",
        "plt.set_ylabel(\"Worker Reliability\")\n",
        "plt.set_xticklabels(['J1','T1','T2'])\n",
        "plt.figure.tight_layout()"
      ],
      "execution_count": 11,
      "outputs": [
        {
          "output_type": "display_data",
          "data": {
            "image/png": "[encoded data removed]",
            "text/plain": [
              "<Figure size 432x432 with 1 Axes>"
            ]
          },
          "metadata": {
            "tags": []
          }
        }
      ]
    },
    {
      "cell_type": "markdown",
      "metadata": {
        "id": "YAvGqi_2qaei",
        "colab_type": "text"
      },
      "source": [
        "### Question Reliability"
      ]
    },
    {
      "cell_type": "code",
      "metadata": {
        "id": "LqMu1WkRqdB3",
        "colab_type": "code",
        "colab": {}
      },
      "source": [
        "def QuestionReliabilityEmbedding(sentences, slabelidlists, label_embeddings, truelabel_embeddings):\n",
        "  reliability = np.zeros(len(sentences))\n",
        "  for i in range(len(sentences)):\n",
        "    sentence = sentences[i]\n",
        "    truelabel_embedding = truelabel_embeddings[sentences.index(sentence)]\n",
        "    slabel_embeddings = label_embeddings[slabelidlists[sentence]]\n",
        "    ns = len(slabel_embeddings)\n",
        "    sim = 0\n",
        "    for k in range(ns):\n",
        "      label_embedding = slabel_embeddings[k]\n",
        "      sim += similarity(label_embedding,truelabel_embedding)\n",
        "    reliability[i] = sim / ns\n",
        "  \n",
        "  return reliability\n",
        "\n",
        "def DatasetQuestionReliabilityEmbedding(labelfilename,gtfilename):\n",
        "  (workers,sentences,swlabels,truelabels) = loaddata(labelfilename,gtfilename)\n",
        "  (labellist,slabelidlists,sworkeridlists,wlabelidlists,wsentenceidlists) = labelformatconversion(workers,sentences,swlabels)\n",
        "  (truelabellist) = truelabelformatonversion(sentences,truelabels)\n",
        "\n",
        "  embed = hub.Module(module_url)\n",
        "  tf.logging.set_verbosity(tf.logging.ERROR)\n",
        "  with tf.Session() as session:\n",
        "    session.run([tf.global_variables_initializer(), tf.tables_initializer()])\n",
        "    label_embeddings = session.run(embed(labellist))\n",
        "  with tf.Session() as session:\n",
        "    session.run([tf.global_variables_initializer(), tf.tables_initializer()])\n",
        "    truelabel_embeddings = session.run(embed(truelabellist))\n",
        "\n",
        "  questionreliability = QuestionReliabilityEmbedding(sentences, slabelidlists, label_embeddings, truelabel_embeddings)\n",
        "  \n",
        "  return questionreliability"
      ],
      "execution_count": 0,
      "outputs": []
    },
    {
      "cell_type": "code",
      "metadata": {
        "id": "30whM6oqLw6j",
        "colab_type": "code",
        "outputId": "544c16a5-94e1-4aa8-8f75-dccb543ca776",
        "colab": {
          "base_uri": "https://localhost:8080/",
          "height": 34
        }
      },
      "source": [
        "# J1\n",
        "labelfilename = folder + 'CrowdWSA2019_J1_label.tsv'\n",
        "gtfilename = folder + 'CrowdWSA2019_J1_gt.tsv'\n",
        "j1questionreliability = DatasetQuestionReliabilityEmbedding(labelfilename,gtfilename)\n",
        "\n",
        "# T1\n",
        "labelfilename = folder + 'CrowdWSA2019_T1_label.tsv'\n",
        "gtfilename = folder + 'CrowdWSA2019_T1_gt.tsv'\n",
        "t1questionreliability = DatasetQuestionReliabilityEmbedding(labelfilename,gtfilename)\n",
        "\n",
        "# T2\n",
        "labelfilename = folder + 'CrowdWSA2019_T2_label.tsv'\n",
        "gtfilename = folder + 'CrowdWSA2019_T2_gt.tsv'\n",
        "t2questionreliability = DatasetQuestionReliabilityEmbedding(labelfilename,gtfilename)\n",
        "\n",
        "print([np.mean(j1questionreliability),np.mean(t1questionreliability),np.mean(t2questionreliability)])"
      ],
      "execution_count": 13,
      "outputs": [
        {
          "output_type": "stream",
          "text": [
            "[0.7354236014988688, 0.785080416202545, 0.7696036003232004]\n"
          ],
          "name": "stdout"
        }
      ]
    },
    {
      "cell_type": "code",
      "metadata": {
        "id": "hmYxAWKLrxXg",
        "colab_type": "code",
        "outputId": "13e502d0-6e0f-4661-b89a-8f83f78efb07",
        "colab": {
          "base_uri": "https://localhost:8080/",
          "height": 411
        }
      },
      "source": [
        "import seaborn as sns\n",
        "\n",
        "rc={'figure.figsize':(6,6), 'font.size': 24, 'axes.labelsize': 24, 'legend.fontsize': 24, \n",
        "    'axes.titlesize': 24, 'xtick.labelsize': 24, 'ytick.labelsize': 24}\n",
        "sns.set(rc=rc)\n",
        "\n",
        "plt = sns.boxplot(data=[j1questionreliability,t1questionreliability,t2questionreliability],showmeans=True)\n",
        "plt.set_xlabel(\"Collections\")\n",
        "plt.set_ylabel(\"Question Reliability\")\n",
        "plt.set_xticklabels(['J1','T1','T2'])\n",
        "plt.figure.tight_layout()"
      ],
      "execution_count": 14,
      "outputs": [
        {
          "output_type": "display_data",
          "data": {
            "image/png": "[encoded data removed]",
            "text/plain": [
              "<Figure size 432x432 with 1 Axes>"
            ]
          },
          "metadata": {
            "tags": []
          }
        }
      ]
    },
    {
      "cell_type": "markdown",
      "metadata": {
        "id": "4fWI05-NEIej",
        "colab_type": "text"
      },
      "source": [
        "##GLEU"
      ]
    },
    {
      "cell_type": "markdown",
      "metadata": {
        "id": "g6HojDdOExG8",
        "colab_type": "text"
      },
      "source": [
        "### Worker GLEU"
      ]
    },
    {
      "cell_type": "code",
      "metadata": {
        "id": "Q7HRz8YgEwki",
        "colab_type": "code",
        "colab": {}
      },
      "source": [
        "def WorkerReliabilityGLEU(workers, sentences, slabelidlists, sworkeridlists, wlabelidlists, wsentenceidlists, labels, truelabels):  \n",
        "  w_num = len(workers)\n",
        "  reliability = np.zeros(w_num)\n",
        "  s_num = len(sentences)\n",
        "\n",
        "  for j in range(w_num): \n",
        "    worker = workers[j]\n",
        "    wtruelabels = truelabels[wsentenceidlists[worker]]\n",
        "    wlabelidlist = wlabelidlists[worker]\n",
        "    wlabels = labels[wlabelidlist]\n",
        "    \n",
        "    nw = len(wlabels)\n",
        "    totalsim = 0\n",
        "    for i in range(nw):\n",
        "      label = wlabels[i]\n",
        "      truelabel = wtruelabels[i]\n",
        "      totalsim += gleu.sentence_gleu([truelabel.split()], label.split())\n",
        "    reliability[j] = totalsim / nw\n",
        "    \n",
        "  return reliability"
      ],
      "execution_count": 0,
      "outputs": []
    },
    {
      "cell_type": "code",
      "metadata": {
        "id": "zZg7FGE9FCjx",
        "colab_type": "code",
        "colab": {
          "base_uri": "https://localhost:8080/",
          "height": 34
        },
        "outputId": "af7ba970-cc63-414f-ce21-536cfc3610ab"
      },
      "source": [
        "# J1\n",
        "labelfilename = folder + 'CrowdWSA2019_J1_label.tsv'\n",
        "gtfilename = folder + 'CrowdWSA2019_J1_gt.tsv'\n",
        "\n",
        "(workers,sentences,swlabels,truelabels) = loaddata(labelfilename,gtfilename)\n",
        "(labellist,slabelidlists,sworkeridlists,wlabelidlists,wsentenceidlists) = labelformatconversion(workers,sentences,swlabels)\n",
        "(truelabellist) = truelabelformatonversion(sentences,truelabels)\n",
        "\n",
        "reliability = WorkerReliabilityGLEU(workers, sentences, slabelidlists, sworkeridlists, wlabelidlists, wsentenceidlists, np.asarray(labellist), np.asarray(truelabellist))\n",
        "j1workergleu = reliability\n",
        "\n",
        "# T1\n",
        "labelfilename = folder + 'CrowdWSA2019_T1_label.tsv'\n",
        "gtfilename = folder + 'CrowdWSA2019_T1_gt.tsv'\n",
        "\n",
        "(workers,sentences,swlabels,truelabels) = loaddata(labelfilename,gtfilename)\n",
        "(labellist,slabelidlists,sworkeridlists,wlabelidlists,wsentenceidlists) = labelformatconversion(workers,sentences,swlabels)\n",
        "(truelabellist) = truelabelformatonversion(sentences,truelabels)\n",
        "\n",
        "reliability = WorkerReliabilityGLEU(workers, sentences, slabelidlists, sworkeridlists, wlabelidlists, wsentenceidlists, np.asarray(labellist), np.asarray(truelabellist))\n",
        "t1workergleu = reliability\n",
        "\n",
        "# T2\n",
        "labelfilename = folder + 'CrowdWSA2019_T2_label.tsv'\n",
        "gtfilename = folder + 'CrowdWSA2019_T2_gt.tsv'\n",
        "\n",
        "(workers,sentences,swlabels,truelabels) = loaddata(labelfilename,gtfilename)\n",
        "(labellist,slabelidlists,sworkeridlists,wlabelidlists,wsentenceidlists) = labelformatconversion(workers,sentences,swlabels)\n",
        "(truelabellist) = truelabelformatonversion(sentences,truelabels)\n",
        "\n",
        "reliability = WorkerReliabilityGLEU(workers, sentences, slabelidlists, sworkeridlists, wlabelidlists, wsentenceidlists, np.asarray(labellist), np.asarray(truelabellist))\n",
        "t2workergleu = reliability\n",
        "\n",
        "print([np.mean(j1workergleu),np.mean(t1workergleu),np.mean(t2workergleu)])"
      ],
      "execution_count": 16,
      "outputs": [
        {
          "output_type": "stream",
          "text": [
            "[0.1868012686336684, 0.17641370367716142, 0.17155530496426646]\n"
          ],
          "name": "stdout"
        }
      ]
    },
    {
      "cell_type": "code",
      "metadata": {
        "id": "8OZESO_XFn-r",
        "colab_type": "code",
        "colab": {
          "base_uri": "https://localhost:8080/",
          "height": 411
        },
        "outputId": "abb666b9-51c0-4f83-9d6f-5b684be977c3"
      },
      "source": [
        "import seaborn as sns\n",
        "\n",
        "rc={'figure.figsize':(6,6), 'font.size': 24, 'axes.labelsize': 24, 'legend.fontsize': 24, \n",
        "    'axes.titlesize': 24, 'xtick.labelsize': 24, 'ytick.labelsize': 24}\n",
        "sns.set(rc=rc)\n",
        "\n",
        "plt = sns.boxplot(data=[j1workergleu,t1workergleu,t2workergleu],showmeans=True)\n",
        "plt.set_xlabel(\"Collections\")\n",
        "plt.set_ylabel(\"Worker GLEU\")\n",
        "plt.set_xticklabels(['J1','T1','T2'])\n",
        "plt.figure.tight_layout()"
      ],
      "execution_count": 17,
      "outputs": [
        {
          "output_type": "display_data",
          "data": {
            "image/png": "[encoded data removed]",
            "text/plain": [
              "<Figure size 432x432 with 1 Axes>"
            ]
          },
          "metadata": {
            "tags": []
          }
        }
      ]
    },
    {
      "cell_type": "markdown",
      "metadata": {
        "id": "j1FVmYNUF4Hj",
        "colab_type": "text"
      },
      "source": [
        "###Question GLEU"
      ]
    },
    {
      "cell_type": "code",
      "metadata": {
        "id": "CkwdJ5ALF6gl",
        "colab_type": "code",
        "colab": {}
      },
      "source": [
        "def QuestionReliabilityGLEU(sentences, slabelidlists, labels, truelabels):\n",
        "  reliability = np.zeros(len(sentences))\n",
        "  for i in range(len(sentences)):\n",
        "    sentence = sentences[i]\n",
        "    truelabel = truelabels[sentences.index(sentence)]\n",
        "    slabels = labels[slabelidlists[sentence]]\n",
        "    ns = len(slabels)\n",
        "    sim = 0\n",
        "    for k in range(ns):\n",
        "      label = slabels[k]\n",
        "      sim += gleu.sentence_gleu([truelabel.split()], label.split())\n",
        "    reliability[i] = sim / ns\n",
        "  \n",
        "  return reliability"
      ],
      "execution_count": 0,
      "outputs": []
    },
    {
      "cell_type": "code",
      "metadata": {
        "id": "09uT7W3KIs8K",
        "colab_type": "code",
        "colab": {
          "base_uri": "https://localhost:8080/",
          "height": 34
        },
        "outputId": "7bf5f378-20a6-478e-8e95-30c962a2238a"
      },
      "source": [
        "# J1\n",
        "labelfilename = folder + 'CrowdWSA2019_J1_label.tsv'\n",
        "gtfilename = folder + 'CrowdWSA2019_J1_gt.tsv'\n",
        "\n",
        "(workers,sentences,swlabels,truelabels) = loaddata(labelfilename,gtfilename)\n",
        "(labellist,slabelidlists,sworkeridlists,wlabelidlists,wsentenceidlists) = labelformatconversion(workers,sentences,swlabels)\n",
        "(truelabellist) = truelabelformatonversion(sentences,truelabels)\n",
        "\n",
        "quality = QuestionReliabilityGLEU(sentences, slabelidlists, np.asarray(labellist), np.asarray(truelabellist))\n",
        "j1questiongleu = quality\n",
        "\n",
        "# T1\n",
        "labelfilename = folder + 'CrowdWSA2019_T1_label.tsv'\n",
        "gtfilename = folder + 'CrowdWSA2019_T1_gt.tsv'\n",
        "\n",
        "(workers,sentences,swlabels,truelabels) = loaddata(labelfilename,gtfilename)\n",
        "(labellist,slabelidlists,sworkeridlists,wlabelidlists,wsentenceidlists) = labelformatconversion(workers,sentences,swlabels)\n",
        "(truelabellist) = truelabelformatonversion(sentences,truelabels)\n",
        "\n",
        "quality = QuestionReliabilityGLEU(sentences, slabelidlists, np.asarray(labellist), np.asarray(truelabellist))\n",
        "t1questiongleu = quality\n",
        "\n",
        "# T2\n",
        "labelfilename = folder + 'CrowdWSA2019_T2_label.tsv'\n",
        "gtfilename = folder + 'CrowdWSA2019_T2_gt.tsv'\n",
        "\n",
        "(workers,sentences,swlabels,truelabels) = loaddata(labelfilename,gtfilename)\n",
        "(labellist,slabelidlists,sworkeridlists,wlabelidlists,wsentenceidlists) = labelformatconversion(workers,sentences,swlabels)\n",
        "(truelabellist) = truelabelformatonversion(sentences,truelabels)\n",
        "\n",
        "quality = QuestionReliabilityGLEU(sentences, slabelidlists, np.asarray(labellist), np.asarray(truelabellist))\n",
        "t2questiongleu = quality\n",
        "\n",
        "print([np.mean(j1questiongleu),np.mean(t1questiongleu),np.mean(t2questiongleu)])"
      ],
      "execution_count": 19,
      "outputs": [
        {
          "output_type": "stream",
          "text": [
            "[0.1929833036876219, 0.17403443483987385, 0.16158265928021784]\n"
          ],
          "name": "stdout"
        }
      ]
    },
    {
      "cell_type": "code",
      "metadata": {
        "id": "8WTScXoKGq6k",
        "colab_type": "code",
        "colab": {
          "base_uri": "https://localhost:8080/",
          "height": 411
        },
        "outputId": "33c6df51-c406-4a51-fb8b-4b02c90c5b5e"
      },
      "source": [
        "import seaborn as sns\n",
        "\n",
        "rc={'figure.figsize':(6,6), 'font.size': 24, 'axes.labelsize': 24, 'legend.fontsize': 24, \n",
        "    'axes.titlesize': 24, 'xtick.labelsize': 24, 'ytick.labelsize': 24}\n",
        "sns.set(rc=rc)\n",
        "\n",
        "plt = sns.boxplot(data=[j1questiongleu,t1questiongleu,t2questiongleu],showmeans=True)\n",
        "plt.set_xlabel(\"Collections\")\n",
        "plt.set_ylabel(\"Question GLEU\")\n",
        "plt.set_xticklabels(['J1','T1','T2'])\n",
        "plt.figure.tight_layout()"
      ],
      "execution_count": 20,
      "outputs": [
        {
          "output_type": "display_data",
          "data": {
            "image/png": "[encoded data removed]",
            "text/plain": [
              "<Figure size 432x432 with 1 Axes>"
            ]
          },
          "metadata": {
            "tags": []
          }
        }
      ]
    }
  ]
}